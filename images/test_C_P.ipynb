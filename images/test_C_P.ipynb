{
 "cells": [
  {
   "cell_type": "code",
   "execution_count": 8,
   "id": "07c76aa7",
   "metadata": {},
   "outputs": [],
   "source": [
    "\n",
    "# importing cv2\n",
    "import cv2\n",
    "\n",
    "# importing os module\n",
    "import os"
   ]
  },
  {
   "cell_type": "code",
   "execution_count": 9,
   "id": "037a9c37",
   "metadata": {},
   "outputs": [],
   "source": [
    "# Python program to explain cv2.imwrite() method\n",
    "\n",
    "\n",
    "# Image path\n",
    "image_path = r't1.jpg'\n",
    "\n",
    "# Image directory\n",
    "directory = r'E:\\geo_coding\\input_imge'"
   ]
  },
  {
   "cell_type": "code",
   "execution_count": 12,
   "id": "70e13135",
   "metadata": {},
   "outputs": [
    {
     "name": "stdout",
     "output_type": "stream",
     "text": [
      "Before saving image:\n",
      "['savedImage.jpg', 't1.jpg', 't2.jpg', 't3.jpg']\n"
     ]
    }
   ],
   "source": [
    "\n",
    "# Using cv2.imread() method\n",
    "# to read the image\n",
    "img = cv2.imread(image_path)\n",
    "\n",
    "# Change the current directory\n",
    "# to specified directory\n",
    "os.chdir(directory)\n",
    "\n",
    "# List files and directories\n",
    "# in 'E:\\geo_coding\\input_imge'\n",
    "print(\"Before saving image:\")\n",
    "print(os.listdir(directory))"
   ]
  },
  {
   "cell_type": "code",
   "execution_count": 14,
   "id": "deb5ac8a",
   "metadata": {},
   "outputs": [
    {
     "name": "stdout",
     "output_type": "stream",
     "text": [
      "After saving image:\n",
      "['SAVE.PNG', 'savedImage.jpg', 't1.jpg', 't2.jpg', 't3.jpg']\n",
      "Successfully saved\n"
     ]
    }
   ],
   "source": [
    "\n",
    "# Filename\n",
    "filename = 'SAVE.PNG'\n",
    "\n",
    "# Using cv2.imwrite() method\n",
    "# Saving the image\n",
    "cv2.imwrite(filename, img)\n",
    "\n",
    "# List files and directories\n",
    "# in 'E:\\geo_coding\\input_imge'\n",
    "print(\"After saving image:\")\n",
    "print(os.listdir(directory))\n",
    "\n",
    "print('Successfully saved')\n"
   ]
  },
  {
   "cell_type": "code",
   "execution_count": null,
   "id": "38c93339",
   "metadata": {},
   "outputs": [],
   "source": []
  }
 ],
 "metadata": {
  "kernelspec": {
   "display_name": "Python 3 (ipykernel)",
   "language": "python",
   "name": "python3"
  },
  "language_info": {
   "codemirror_mode": {
    "name": "ipython",
    "version": 3
   },
   "file_extension": ".py",
   "mimetype": "text/x-python",
   "name": "python",
   "nbconvert_exporter": "python",
   "pygments_lexer": "ipython3",
   "version": "3.8.12"
  }
 },
 "nbformat": 4,
 "nbformat_minor": 5
}
